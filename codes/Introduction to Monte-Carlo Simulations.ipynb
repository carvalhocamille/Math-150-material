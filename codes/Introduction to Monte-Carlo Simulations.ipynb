{
 "cells": [
  {
   "cell_type": "code",
   "execution_count": 2,
   "id": "breeding-military",
   "metadata": {},
   "outputs": [],
   "source": [
    "import numpy as np\n",
    "from scipy.integrate import dblquad\n",
    "import matplotlib.pyplot as plt\n",
    "from matplotlib import rc\n",
    "from IPython.display import HTML\n",
    "from numpy import linalg as la"
   ]
  },
  {
   "cell_type": "code",
   "execution_count": 50,
   "id": "split-strength",
   "metadata": {},
   "outputs": [
    {
     "name": "stdout",
     "output_type": "stream",
     "text": [
      "1.0\n",
      "0.9485663553299681\n"
     ]
    },
    {
     "data": {
      "text/plain": [
       "[<matplotlib.lines.Line2D at 0x180fe55b0>]"
      ]
     },
     "execution_count": 50,
     "metadata": {},
     "output_type": "execute_result"
    },
    {
     "data": {
      "image/png": "[encoded data removed]",
      "text/plain": [
       "<Figure size 432x288 with 1 Axes>"
      ]
     },
     "metadata": {
      "needs_background": "light"
     },
     "output_type": "display_data"
    }
   ],
   "source": [
    "N = 20 # number of random sampling \n",
    "f = lambda x,y: x**4 + y**6 -1\n",
    "g = lambda x: (1 - x**4)**(1/6) \n",
    "t = np.linspace(0,1,num=50)\n",
    "xx = np.zeros((N+1,1))\n",
    "yy = np.zeros((N+1,1))\n",
    "pick = 0 #number of points inside our domain\n",
    "fig , ax1 = plt.subplots()\n",
    "for i in range(1,N+1):\n",
    "    x = np.random.uniform(size=1)\n",
    "    y = np.random.uniform(size=1)\n",
    "    xx[i] = x\n",
    "    yy[i] = y\n",
    "    ax1.scatter(x, y)\n",
    "    if f(x,y)<=0:\n",
    "        pick = pick + 1\n",
    "    \n",
    "area = pick/N\n",
    "print(area)\n",
    "exact, error = dblquad(lambda x,y:1, 0, 1, 0, g)\n",
    "print(exact)\n",
    "#fig , ax1 = plt.subplots()\n",
    "ax1.set_xlim((0, 1))\n",
    "ax1.set_ylim((0, 1))\n",
    "plt.yticks([])\n",
    "ax1.plot(t, g(t))"
   ]
  },
  {
   "cell_type": "code",
   "execution_count": 51,
   "id": "collect-correction",
   "metadata": {},
   "outputs": [
    {
     "data": {
      "application/vnd.jupyter.widget-view+json": {
       "model_id": "059102dd9d5b4fb9ac5a0721d83ae7f8",
       "version_major": 2,
       "version_minor": 0
      },
      "text/plain": [
       "interactive(children=(IntSlider(value=100, description='N', max=10000, min=100, step=100), Output()), _dom_cla…"
      ]
     },
     "metadata": {},
     "output_type": "display_data"
    }
   ],
   "source": [
    "f = lambda x,y: x**4 + y**6 -1\n",
    "g = lambda x: (1 - x**4)**(1/6) \n",
    "t = np.linspace(0,1,num=50)\n",
    "\n",
    "from ipywidgets import interact \n",
    "@interact\n",
    "def interact_bernouilli(N:(100, 10000, 100)=10):\n",
    "    exact, error = dblquad(lambda x,y:1, 0, 1, 0, g)\n",
    "    xx = np.zeros((N+1,1))\n",
    "    yy = np.zeros((N+1,1))\n",
    "    pick = 0 #number of points inside our domain\n",
    "    fig , ax1 = plt.subplots()\n",
    "    xx = np.random.uniform(size=N)\n",
    "    yy = np.random.uniform(size=N)\n",
    "    mask = f(xx, yy) <= 0\n",
    "    plt.scatter(xx[mask], yy[mask], c='C0')\n",
    "    plt.scatter(xx[~mask], yy[~mask], c='C1')\n",
    "    area = len(xx[mask])/N\n",
    "    ax1.hlines(1, 0, 1., colors='k', linestyles='--') \n",
    "    ax1.vlines(1, 0, 1., colors='k', linestyles='--')\n",
    "    ax1.set_xlim((0, 1.2))\n",
    "    ax1.set_ylim((0, 1.2))\n",
    "    plt.yticks([])\n",
    "    ax1.plot(t, g(t))\n",
    "    plt.title(f'Computed area = {area}, Exact value = {exact}')"
   ]
  },
  {
   "cell_type": "code",
   "execution_count": 54,
   "id": "continuous-empire",
   "metadata": {},
   "outputs": [
    {
     "data": {
      "application/vnd.jupyter.widget-view+json": {
       "model_id": "652db951ccdf454eabe13b14462d5dd6",
       "version_major": 2,
       "version_minor": 0
      },
      "text/plain": [
       "interactive(children=(IntSlider(value=100, description='N', max=10000, min=100, step=100), Output()), _dom_cla…"
      ]
     },
     "metadata": {},
     "output_type": "display_data"
    }
   ],
   "source": [
    "f = lambda x,y: x**5 + y**3 -1\n",
    "g = lambda x: (1 - x**5)**(1/3) \n",
    "t = np.linspace(0,1,num=50)\n",
    "\n",
    "from ipywidgets import interact \n",
    "@interact\n",
    "def interact_bernouilli(N:(100, 10000, 100)=10):\n",
    "    exact, error = dblquad(lambda x,y:1, 0, 1, 0, g)\n",
    "    xx = np.zeros((N+1,1))\n",
    "    yy = np.zeros((N+1,1))\n",
    "    pick = 0 #number of points inside our domain\n",
    "    fig , ax1 = plt.subplots()\n",
    "    xx = np.random.uniform(size=N)\n",
    "    yy = np.random.uniform(size=N)\n",
    "    mask = f(xx, yy) <= 0\n",
    "    plt.scatter(xx[mask], yy[mask], c='C0')\n",
    "    plt.scatter(xx[~mask], yy[~mask], c='C1')\n",
    "    area = len(xx[mask])/N\n",
    "    ax1.hlines(1, 0, 1., colors='k', linestyles='--') \n",
    "    ax1.vlines(1, 0, 1., colors='k', linestyles='--')\n",
    "    ax1.set_xlim((0, 1.2))\n",
    "    ax1.set_ylim((0, 1.2))\n",
    "    plt.yticks([])\n",
    "    ax1.plot(t, g(t))\n",
    "    plt.title(f'Computed area = {area}, Exact value = {exact}')"
   ]
  },
  {
   "cell_type": "code",
   "execution_count": 32,
   "id": "naked-heather",
   "metadata": {},
   "outputs": [
    {
     "name": "stdout",
     "output_type": "stream",
     "text": [
      "[[0.1, 0.5, 0.4], [0.3, 0.3, 0.4], [0.2, 0.6, 0.2]]\n"
     ]
    }
   ],
   "source": [
    "P = [[0.1, 0.5, 0.4], \n",
    "    [0.3, 0.3, 0.4], \n",
    "     [0.2, 0.6, 0.2]]\n",
    "print(P)"
   ]
  },
  {
   "cell_type": "code",
   "execution_count": 35,
   "id": "forced-condition",
   "metadata": {},
   "outputs": [
    {
     "name": "stdout",
     "output_type": "stream",
     "text": [
      "[[0.22222222 0.44444444 0.33333333]\n",
      " [0.22222222 0.44444444 0.33333333]\n",
      " [0.22222222 0.44444444 0.33333333]]\n"
     ]
    }
   ],
   "source": [
    "from numpy.linalg import matrix_power\n",
    "B = matrix_power(P,30)\n",
    "print(B)"
   ]
  },
  {
   "cell_type": "code",
   "execution_count": 36,
   "id": "accepted-isolation",
   "metadata": {},
   "outputs": [
    {
     "data": {
      "text/plain": [
       "array([0.22222222, 0.44444444, 0.33333333])"
      ]
     },
     "execution_count": 36,
     "metadata": {},
     "output_type": "execute_result"
    }
   ],
   "source": [
    "[0.3, 0.3, 0.4] @ B"
   ]
  },
  {
   "cell_type": "code",
   "execution_count": null,
   "id": "large-knitting",
   "metadata": {},
   "outputs": [],
   "source": []
  },
  {
   "cell_type": "code",
   "execution_count": null,
   "id": "encouraging-barcelona",
   "metadata": {},
   "outputs": [],
   "source": []
  }
 ],
 "metadata": {
  "kernelspec": {
   "display_name": "Python 3",
   "language": "python",
   "name": "python3"
  },
  "language_info": {
   "codemirror_mode": {
    "name": "ipython",
    "version": 3
   },
   "file_extension": ".py",
   "mimetype": "text/x-python",
   "name": "python",
   "nbconvert_exporter": "python",
   "pygments_lexer": "ipython3",
   "version": "3.8.5"
  }
 },
 "nbformat": 4,
 "nbformat_minor": 5
}

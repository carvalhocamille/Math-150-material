{
 "cells": [
  {
   "cell_type": "markdown",
   "metadata": {},
   "source": [
    "# The Susceptible-Infected-Recovered model\n",
    "A simple mathematical description of the spread of a disease in a population is the so-called SIR model, which divides the (fixed) population of N individuals into three \"compartments\" which may vary as a function of time, t:\n",
    "\n",
    "-S(t) are those susceptible but not yet infected with the disease;\n",
    "\n",
    "-I(t) is the number of infectious individuals;\n",
    "\n",
    "-R(t) are those individuals who have recovered from the disease and now have immunity to it.\n",
    "\n",
    "\n",
    "The SIR model describes the change in the population of each of these compartments in terms of two parameters, β and γ. β describes the effective contact rate of the disease: an infected individual comes into contact with βN other individuals per unit time (of which the fraction that are susceptible to contracting the disease is S/N). γ is the mean recovery rate: that is, 1/γ is the mean period of time during which an infected individual can pass it on.\n",
    "\n",
    "The differential equations describing this model were first derived by Kermack and McKendrick [Proc. R. Soc. A, 115, 772 (1927)]:\n",
    "\n",
    "$$ \\frac{dS}{dt} =  - \\frac{ \\beta}{N} SI\n",
    "$$\n",
    "$$ \\frac{dI}{dt} =   \\frac{\\beta}{N} SI - \\gamma I\n",
    "$$\n",
    "$$ \\frac{dR}{dt} =  \\gamma I\n",
    "$$"
   ]
  },
  {
   "cell_type": "markdown",
   "metadata": {},
   "source": [
    "Can you find the equilibrium points ?\n",
    "\n",
    "Can you discuss their stability ?"
   ]
  },
  {
   "cell_type": "markdown",
   "metadata": {},
   "source": [
    "# A simple Python implementation"
   ]
  },
  {
   "cell_type": "code",
   "execution_count": 20,
   "metadata": {},
   "outputs": [],
   "source": [
    "import numpy as np\n",
    "from scipy.integrate import odeint\n",
    "import matplotlib.pyplot as plt"
   ]
  },
  {
   "cell_type": "code",
   "execution_count": 21,
   "metadata": {},
   "outputs": [
    {
     "data": {
      "image/png": "[encoded data removed]",
      "text/plain": [
       "<Figure size 720x720 with 1 Axes>"
      ]
     },
     "metadata": {
      "needs_background": "light"
     },
     "output_type": "display_data"
    }
   ],
   "source": [
    "# Total population, N.\n",
    "N = 1000\n",
    "# Initial number of infected and recovered individuals, I0 and R0.\n",
    "I0, R0 = 300, 0\n",
    "# Everyone else, S0, is susceptible to infection initially.\n",
    "S0 = N - I0 - R0\n",
    "# Contact rate, beta, and mean recovery rate, gamma, (in 1/days).\n",
    "β, γ = 0.2, 1./10 \n",
    "# A grid of time points (in days)\n",
    "t = np.linspace(0, 365, 365)\n",
    "\n",
    "# The SIR model differential equations.\n",
    "def sir(y, t, N, β, γ):\n",
    "    S, I, R = y\n",
    "    dSdt = -β * S * I / N\n",
    "    dIdt = β * S * I / N - γ * I\n",
    "    dRdt = γ * I\n",
    "    return dSdt, dIdt, dRdt\n",
    "\n",
    "# Initial conditions vector\n",
    "y0 = S0, I0, R0\n",
    "# Integrate the SIR equations over the time grid, t.\n",
    "ret = odeint(sir, y0, t, args=(N, β, γ))\n",
    "S, I, R = ret.T\n",
    "\n",
    "# Plot the data on three separate curves for S(t), I(t) and R(t)\n",
    "fig, ax = plt.subplots(1, 1,figsize=(10, 10))\n",
    "#ax = fig.add_subplot(111, facecolor='#dddddd', axisbelow=True)\n",
    "ax.plot(t, S/N, 'b', alpha=0.5, lw=2, label='Susceptible')\n",
    "ax.plot(t, I/N, 'r', alpha=0.5, lw=2, label='Infected')\n",
    "ax.plot(t, R/N, 'g', alpha=0.5, lw=2, label='Recovered with immunity')\n",
    "ax.set_xlabel('Time /days')\n",
    "ax.set_ylabel('Number (%)')\n",
    "ax.set_ylim(0,1.2)\n",
    "legend = ax.legend()\n"
   ]
  },
  {
   "cell_type": "code",
   "execution_count": 23,
   "metadata": {},
   "outputs": [
    {
     "data": {
      "application/vnd.jupyter.widget-view+json": {
       "model_id": "9da88feeb2994086b040add9de0b65bf",
       "version_major": 2,
       "version_minor": 0
      },
      "text/plain": [
       "interactive(children=(IntSlider(value=20, description='I0', max=1000), IntSlider(value=0, description='R0', ma…"
      ]
     },
     "metadata": {},
     "output_type": "display_data"
    }
   ],
   "source": [
    "N = 1000\n",
    "β, γ = 0.2, 1./10 \n",
    "from ipywidgets import interact \n",
    "@interact\n",
    "def interact_sir(I0:(0, N, 1)=20, R0:(0, N, 1)=0):\n",
    "    #I0 = II\n",
    "    #R0 = RR\n",
    "    S0 = N - I0 - R0\n",
    "    t = np.linspace(0, 365, 365)\n",
    "    y0 = S0, I0, R0\n",
    "    ret = odeint(sir, y0, t, args=(N, β, γ))\n",
    "    S, I, R = ret.T\n",
    "\n",
    "    fig, ax = plt.subplots(1, 1,figsize=(10, 10))\n",
    "    ax.plot(t, S/N, 'b', alpha=0.5, lw=2, label='Susceptible')\n",
    "    ax.plot(t, I/N, 'r', alpha=0.5, lw=2, label='Infected')\n",
    "    ax.plot(t, R/N, 'g', alpha=0.5, lw=2, label='Recovered with immunity')\n",
    "    ax.set_xlabel('Time /days')\n",
    "    ax.set_ylabel('Number (%)')\n",
    "    ax.set_ylim(0,1.2)\n",
    "    legend = ax.legend()\n",
    "    "
   ]
  },
  {
   "cell_type": "code",
   "execution_count": null,
   "metadata": {},
   "outputs": [],
   "source": []
  }
 ],
 "metadata": {
  "kernelspec": {
   "display_name": "Python 3",
   "language": "python",
   "name": "python3"
  },
  "language_info": {
   "codemirror_mode": {
    "name": "ipython",
    "version": 3
   },
   "file_extension": ".py",
   "mimetype": "text/x-python",
   "name": "python",
   "nbconvert_exporter": "python",
   "pygments_lexer": "ipython3",
   "version": "3.8.5"
  }
 },
 "nbformat": 4,
 "nbformat_minor": 4
}

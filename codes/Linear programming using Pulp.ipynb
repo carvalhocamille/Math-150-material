{
 "cells": [
  {
   "cell_type": "code",
   "execution_count": 2,
   "metadata": {},
   "outputs": [
    {
     "name": "stdout",
     "output_type": "stream",
     "text": [
      "Requirement already satisfied: pulp in /usr/local/anaconda3/lib/python3.8/site-packages (2.4)\r\n",
      "Requirement already satisfied: amply>=0.1.2 in /usr/local/anaconda3/lib/python3.8/site-packages (from pulp) (0.1.4)\r\n",
      "Requirement already satisfied: docutils>=0.3 in /usr/local/anaconda3/lib/python3.8/site-packages (from amply>=0.1.2->pulp) (0.16)\r\n",
      "Requirement already satisfied: pyparsing in /usr/local/anaconda3/lib/python3.8/site-packages (from amply>=0.1.2->pulp) (2.4.7)\r\n"
     ]
    }
   ],
   "source": [
    "#Install Pulp package on your computer: run it only once\n",
    "import sys \n",
    "!{sys.executable} -m pip install pulp "
   ]
  },
  {
   "cell_type": "markdown",
   "metadata": {},
   "source": [
    "## Example "
   ]
  },
  {
   "cell_type": "markdown",
   "metadata": {},
   "source": [
    "Minimize :  Z = 3x + 5y \n",
    "<br>\n",
    "Subject to the constraints: \n",
    "<br>\n",
    "$2x + 3y \\geq 12$\n",
    "<br>\n",
    "$-x + y \\leq 3 $\n",
    "<br>\n",
    "$ 4 \\leq x \\leq 10 $\n",
    "<br>\n",
    "$y \\leq 3 $\n",
    "<br>\n",
    "$x, y \\geq 0$"
   ]
  },
  {
   "cell_type": "markdown",
   "metadata": {},
   "source": [
    "## Plot the feasible set"
   ]
  },
  {
   "cell_type": "code",
   "execution_count": 3,
   "metadata": {},
   "outputs": [],
   "source": [
    "import numpy as np\n",
    "import sympy as sp\n",
    "from matplotlib import pyplot as plt\n",
    "\n",
    "C1 = lambda x : (12-2*x)/3\n",
    "C2 = lambda x : 3 + x\n",
    "C3 = lambda x : 4\n",
    "C4 = lambda x : 3\n",
    "C5 = lambda x : 10\n",
    "\n",
    "x = np.arange(0., 15., 0.2)\n",
    "y1 = np.array([C1(xi) for xi in x])\n",
    "y2 = np.array([C2(xi) for xi in x])\n",
    "y3 = np.array([C3(xi) for xi in x])\n",
    "y4 = np.array([C4(xi) for xi in x])\n",
    "y5 = np.array([C5(xi) for xi in x])\n"
   ]
  },
  {
   "cell_type": "code",
   "execution_count": 16,
   "metadata": {},
   "outputs": [
    {
     "data": {
      "image/png": "[encoded data removed]",
      "text/plain": [
       "<Figure size 432x288 with 1 Axes>"
      ]
     },
     "metadata": {
      "needs_background": "light"
     },
     "output_type": "display_data"
    }
   ],
   "source": [
    "fig, ax = plt.subplots()\n",
    "ax.plot(x, y1, 'r', x, y2, 'b', y3, x,'y', x, y4, 'g', y5, x,'m', x *0, x, 'k', x, x*0, 'k')\n",
    "ax.fill_between(x, 0, y2, facecolor='blue', alpha=0.2)\n",
    "ax.axvspan(4, 10, color='yellow', alpha=0.5)\n",
    "ax.fill_between(x, 0, y4, facecolor='green', alpha=0.5)\n",
    "ax.fill_between(x, y1, 12, facecolor='red', alpha=0.5)\n",
    "plt.show()"
   ]
  },
  {
   "cell_type": "code",
   "execution_count": 17,
   "metadata": {},
   "outputs": [
    {
     "name": "stdout",
     "output_type": "stream",
     "text": [
      "Problem:\n",
      "MINIMIZE\n",
      "3*x + 5*y + 0\n",
      "SUBJECT TO\n",
      "_C1: 2 x + 3 y >= 12\n",
      "\n",
      "_C2: - x + y <= 3\n",
      "\n",
      "_C3: x >= 4\n",
      "\n",
      "_C4: x <= 10\n",
      "\n",
      "_C5: y <= 3\n",
      "\n",
      "VARIABLES\n",
      "x Continuous\n",
      "y Continuous\n",
      "\n",
      "Optimal\n",
      "x,y,minimum of the functional\n",
      "6.0 0.0 18.0\n"
     ]
    }
   ],
   "source": [
    "# import the library pulp as p \n",
    "import pulp as p \n",
    "  \n",
    "# Create a LP Minimization problem \n",
    "Lp_prob = p.LpProblem('Problem', p.LpMinimize)  \n",
    "  \n",
    "# Create problem Variables  \n",
    "x = p.LpVariable(\"x\", lowBound = 0)   # Create a variable x >= 0 \n",
    "y = p.LpVariable(\"y\", lowBound = 0)   # Create a variable y >= 0 \n",
    "\n",
    "# Objective Function \n",
    "Lp_prob += 3 * x + 5 * y \n",
    "  \n",
    "# Constraints: \n",
    "Lp_prob += 2 * x + 3 * y >= 12\n",
    "Lp_prob += -x + y  <= 3\n",
    "Lp_prob += x >= 4\n",
    "Lp_prob += x <= 10\n",
    "Lp_prob += y <= 3\n",
    "\n",
    "# Display the problem \n",
    "print(Lp_prob) \n",
    "  \n",
    "status = Lp_prob.solve()   # Solver \n",
    "print(p.LpStatus[status])   # The solution status \n",
    "  \n",
    "# Printing the final solution \n",
    "print('x,y,minimum of the functional')\n",
    "print(p.value(x), p.value(y), p.value(Lp_prob.objective))   "
   ]
  },
  {
   "cell_type": "markdown",
   "metadata": {},
   "source": [
    "## Linear Programming in Python using Pulp"
   ]
  },
  {
   "cell_type": "code",
   "execution_count": 18,
   "metadata": {},
   "outputs": [
    {
     "name": "stdout",
     "output_type": "stream",
     "text": [
      "Problem:\n",
      "MINIMIZE\n",
      "3*x + 5*y + 2*z + 0\n",
      "SUBJECT TO\n",
      "_C1: 2 x + 3 y >= 8\n",
      "\n",
      "_C2: - x + y - z <= 3\n",
      "\n",
      "_C3: x >= 4\n",
      "\n",
      "_C4: x <= 10\n",
      "\n",
      "_C5: y <= 3\n",
      "\n",
      "_C6: z >= 5\n",
      "\n",
      "VARIABLES\n",
      "x Continuous\n",
      "y Continuous\n",
      "z Continuous\n",
      "\n",
      "Optimal\n",
      "x,y,minimum of the functional\n",
      "4.0 0.0 5.0 22.0\n"
     ]
    }
   ],
   "source": [
    "\n",
    "# Create a LP Minimization problem \n",
    "Lp_prob = p.LpProblem('Problem', p.LpMinimize)  \n",
    "  \n",
    "# Create problem Variables  \n",
    "x = p.LpVariable(\"x\", lowBound = 0)   # Create a variable x >= 0 \n",
    "y = p.LpVariable(\"y\", lowBound = 0)   # Create a variable y >= 0 \n",
    "z = p.LpVariable(\"z\", lowBound = 0)   # Create a variable z >= 0  \n",
    "\n",
    "# Objective Function \n",
    "Lp_prob += 3 * x + 5 * y + 2* z  \n",
    "  \n",
    "# Constraints: \n",
    "Lp_prob += 2 * x + 3 * y >= 8\n",
    "Lp_prob += -x + y -z <= 3\n",
    "Lp_prob += x >= 4\n",
    "Lp_prob += x <= 10\n",
    "Lp_prob += y <= 3\n",
    "Lp_prob += z >= 5\n",
    "  \n",
    "# Display the problem \n",
    "print(Lp_prob) \n",
    "  \n",
    "status = Lp_prob.solve()   # Solver \n",
    "print(p.LpStatus[status])   # The solution status \n",
    "  \n",
    "# Printing the final solution \n",
    "print('x,y,minimum of the functional')\n",
    "print(p.value(x), p.value(y), p.value(z), p.value(Lp_prob.objective))   "
   ]
  },
  {
   "cell_type": "code",
   "execution_count": null,
   "metadata": {},
   "outputs": [],
   "source": []
  },
  {
   "cell_type": "code",
   "execution_count": null,
   "metadata": {},
   "outputs": [],
   "source": []
  }
 ],
 "metadata": {
  "kernelspec": {
   "display_name": "Python 3",
   "language": "python",
   "name": "python3"
  },
  "language_info": {
   "codemirror_mode": {
    "name": "ipython",
    "version": 3
   },
   "file_extension": ".py",
   "mimetype": "text/x-python",
   "name": "python",
   "nbconvert_exporter": "python",
   "pygments_lexer": "ipython3",
   "version": "3.8.5"
  }
 },
 "nbformat": 4,
 "nbformat_minor": 2
}

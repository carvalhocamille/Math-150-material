{
 "cells": [
  {
   "cell_type": "code",
   "execution_count": 10,
   "metadata": {},
   "outputs": [
    {
     "name": "stdout",
     "output_type": "stream",
     "text": [
      "Requirement already satisfied: qpsolvers in /usr/local/anaconda3/lib/python3.8/site-packages (1.5)\n",
      "Requirement already satisfied: quadprog>=0.1.8 in /usr/local/anaconda3/lib/python3.8/site-packages (from qpsolvers) (0.1.8)\n",
      "Requirement already satisfied: Cython in /usr/local/anaconda3/lib/python3.8/site-packages (from quadprog>=0.1.8->qpsolvers) (0.29.22)\n",
      "Note: you may need to restart the kernel to use updated packages.\n"
     ]
    }
   ],
   "source": [
    "pip install qpsolvers"
   ]
  },
  {
   "cell_type": "markdown",
   "metadata": {},
   "source": [
    "## Example "
   ]
  },
  {
   "cell_type": "markdown",
   "metadata": {},
   "source": [
    "Minimize :  $J = \\frac{1}{2}x^\\intercal A x  - b^\\intercal x $\n",
    "<br>\n",
    "Subject to the constraints: \n",
    "<br>\n",
    "$C x \\leq f$ with \n",
    "$$A = \\begin{pmatrix} 3 & 1 & 0 \\\\ 1 & 3 & 1 \\\\ 0 & 1 & 3 \\end{pmatrix}, \\quad  b = \\begin{pmatrix} 1 \\\\ -1 \\\\2 \\end{pmatrix},\\quad C = \\begin{pmatrix} 1 & 2  \\\\ 2 & 0  \\\\ -1 & 2 \\end{pmatrix}, \\quad  f = \\begin{pmatrix} 1 \\\\ 0\\\\2 \\end{pmatrix}$$\n",
    "\n",
    "\n",
    "We will use the library qp_solvers to solve this system. The adopted format for this function is given by\n",
    "$$Z = \\frac{1}{2}x^\\intercal P x  + q^\\intercal x  \\quad \\mbox{Subject to $G x \\leq h$}$$\n",
    "\n",
    "\n",
    "-It requires A = P to be definite positive\n",
    "\n",
    "-The matrix C = G should have the same dimension as A. To that aim one can add zeros to the matrix.\n",
    "\n",
    "-Note that q = -b"
   ]
  },
  {
   "cell_type": "markdown",
   "metadata": {},
   "source": [
    "## Quadratic programming using QPsolvers"
   ]
  },
  {
   "cell_type": "code",
   "execution_count": 11,
   "metadata": {},
   "outputs": [
    {
     "name": "stdout",
     "output_type": "stream",
     "text": [
      "QP solution: x_qp=array([ 0.   , -0.625,  0.875])\n"
     ]
    }
   ],
   "source": [
    "from qpsolvers import solve_qp\n",
    "\n",
    "import numpy as np\n",
    "import sympy as sp\n",
    "from matplotlib import pyplot as plt\n",
    "\n",
    "A = np.array([[3., 1., 0.], [1, 3., 1.], [0., 1., 3.]])\n",
    "b = np.array([1., -1., 2.])\n",
    "C = np.array([[1., 2., 0], [2., 0. ,0], [-1., 2., 0]])\n",
    "f = np.array([1., 0, 2])\n",
    "\n",
    "x_qp = solve_qp(A, -b, C, f)\n",
    "print(f\"QP solution: {x_qp=}\")"
   ]
  },
  {
   "cell_type": "markdown",
   "metadata": {},
   "source": [
    "## Implementing gradient descent method ourselves\n",
    "To solve the above problem we need to solve iteratively\n",
    "$$ A u  - b+ C^\\intercal \\lambda = 0, \\quad Cu \\leq f, \\quad \\lambda \\geq 0, \\quad \\lambda_i [Cu-f]_i = 0$$\n",
    "To solve the linear system we consider the gradient descent method called Conjugate Gradient, and we use UZAWA algorithm to take care of the constrains"
   ]
  },
  {
   "cell_type": "code",
   "execution_count": 12,
   "metadata": {},
   "outputs": [],
   "source": [
    "from numpy import linalg as la\n",
    "def gc(A, b, x0, η, Imax):\n",
    "    '''\n",
    "    Solves the linear system Ax = b using Conjugate gradient\n",
    "    '''\n",
    "    x = x0\n",
    "    r = b - A@x #residual\n",
    "    d = r #initial descent direction\n",
    "    n0 = np.dot(r,r)\n",
    "    n1 = n0\n",
    "    res = []\n",
    "    i = 0\n",
    "    while n0 > η and i < Imax:\n",
    "        z = A@d\n",
    "        α = n0 / (np.dot(z,d))\n",
    "        x = x + α * d\n",
    "        r = r - α * z\n",
    "        n1 = np.dot(r,r)\n",
    "        β = n1 / n0\n",
    "        d = r + β * d\n",
    "        n0 = n1\n",
    "        i = i+1\n",
    "        res = [res, np.sqrt(n1)]\n",
    "        if np.sqrt(n1) > 1e10:\n",
    "            break\n",
    "    return x, i, res\n",
    "\n",
    "def uzawa(A, b, C, f, λ0, ρ, η, Imax):\n",
    "    '''\n",
    "    Solves the linear system Ax  =  b - C^T*l using Conjugate gradient\n",
    "    Then projects l using the constraints\n",
    "    '''\n",
    "    λ = λ0\n",
    "    n0 = 1 + η\n",
    "    res = []\n",
    "    i = 0\n",
    "    ηc = 1e-16\n",
    "    Imaxc = 1000\n",
    "    x = np.zeros(len(b))\n",
    "    while n0 > η and i < Imax:\n",
    "        [x, i, res] = gc(A, b - np.transpose(C)@λ, x, ηc, Imaxc)\n",
    "        λ = np.maximum(np.zeros_like(λ), λ + ρ *( C@x -f))\n",
    "        n0 = la.norm(np.maximum(np.zeros_like(λ), C@x-f))\n",
    "        i = i+1\n",
    "        res = [res, n0]\n",
    "    return x, λ, i, res\n",
    "        "
   ]
  },
  {
   "cell_type": "code",
   "execution_count": 13,
   "metadata": {},
   "outputs": [],
   "source": [
    "A = np.array([[3., 1., 0.], [1, 3., 1.], [0., 1., 3.]])\n",
    "b = np.array([1., -1., 2.])\n",
    "C = np.array([[1., 2., 0], [2., 0. ,0], [-1., 2., 0]])\n",
    "f = np.array([1., 0, 2])\n",
    "\n",
    "λ0 = np.zeros(len(f))\n",
    "ρ = 1e-5\n",
    "η = 1e-16\n",
    "Imax = 1000\n",
    "[x, λ, i, res] = uzawa(A, b, C, f, λ0, ρ, η, Imax)"
   ]
  },
  {
   "cell_type": "code",
   "execution_count": 14,
   "metadata": {},
   "outputs": [
    {
     "name": "stdout",
     "output_type": "stream",
     "text": [
      "[-3.83953019e-09 -6.25000000e-01  8.75000000e-01]\n",
      "[0.         0.81250001 0.        ]\n",
      "[-2.25000000e+00 -7.67906037e-09 -3.25000000e+00]\n",
      "[-1.45324819e-09 -3.48754536e-09  1.16237642e-09]\n",
      "Error between the 2 methods: 3.859501170436197e-09\n"
     ]
    }
   ],
   "source": [
    "print(x)\n",
    "print(λ)\n",
    "print(C@x - f)\n",
    "print(A@x-b + np.transpose(C)@λ)\n",
    "print(f\"Error between the 2 methods:\", la.norm(x_qp - x))"
   ]
  },
  {
   "cell_type": "code",
   "execution_count": 15,
   "metadata": {},
   "outputs": [
    {
     "data": {
      "text/plain": [
       "'%.3f'"
      ]
     },
     "execution_count": 15,
     "metadata": {},
     "output_type": "execute_result"
    }
   ],
   "source": [
    "%precision 3"
   ]
  },
  {
   "cell_type": "markdown",
   "metadata": {},
   "source": [
    "### Conjugate gradient: test and validation\n",
    "We compare below the direct solver from Python and CG to solve Ax = b"
   ]
  },
  {
   "cell_type": "code",
   "execution_count": 16,
   "metadata": {},
   "outputs": [],
   "source": [
    "solu = la.inv(A)@b\n",
    "solu2 = gc(A, b, np.zeros_like(b), η, Imax)"
   ]
  },
  {
   "cell_type": "code",
   "execution_count": 17,
   "metadata": {},
   "outputs": [
    {
     "name": "stdout",
     "output_type": "stream",
     "text": [
      "[ 0.619 -0.857  0.952]\n",
      "[ 0.619 -0.857  0.952]\n"
     ]
    }
   ],
   "source": [
    "print(solu)\n",
    "print(solu2[0])"
   ]
  },
  {
   "cell_type": "code",
   "execution_count": null,
   "metadata": {},
   "outputs": [],
   "source": []
  }
 ],
 "metadata": {
  "kernelspec": {
   "display_name": "Python 3",
   "language": "python",
   "name": "python3"
  },
  "language_info": {
   "codemirror_mode": {
    "name": "ipython",
    "version": 3
   },
   "file_extension": ".py",
   "mimetype": "text/x-python",
   "name": "python",
   "nbconvert_exporter": "python",
   "pygments_lexer": "ipython3",
   "version": "3.8.5"
  }
 },
 "nbformat": 4,
 "nbformat_minor": 2
}

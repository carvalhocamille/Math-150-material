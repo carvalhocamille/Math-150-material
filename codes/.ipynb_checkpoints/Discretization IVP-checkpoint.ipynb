{
 "cells": [
  {
   "cell_type": "code",
   "execution_count": null,
   "metadata": {},
   "outputs": [],
   "source": [
    "%matplotlib inline\n",
    "from matplotlib import pyplot as plt\n",
    "import numpy as np\n",
    "import sympy as sp"
   ]
  },
  {
   "cell_type": "code",
   "execution_count": null,
   "metadata": {},
   "outputs": [],
   "source": [
    "def RK2(f, a, b, α, N):\n",
    "    '''\n",
    "    function that approximate the initial value problem (IVP) y'(t) = f(t,y(t))\n",
    "    a < t < b, y(a) = α, using second order Runge-Kutta method.\n",
    "    \n",
    "    Parameters\n",
    "    ==========\n",
    "    f: function in IVP\n",
    "    a: float number, lower bound time interval\n",
    "    b: float number, upper bound time interval\n",
    "    α: float number, initial condition of the IVP at t = a\n",
    "    N: integer, number of subintervals\n",
    "    \n",
    "    Returns\n",
    "    =======\n",
    "    The solution y, as an array of values\n",
    "    The sampled time t, as an array of values\n",
    "    '''\n",
    "    \n",
    "    Δt = (b-a)/ N\n",
    "    t = [a + i * Δt for i in range(N+1)] #careful in range, the endpoint is excluded\n",
    "\n",
    "    y = [α]\n",
    "    for i in range(1, N+1):\n",
    "        y.append( y[i-1] + Δt * f(t[i-1] + 0.5*Δt, y[i-1] + 0.5*Δt*f(t[i-1], y[i-1]) ) )\n",
    "    return y, t"
   ]
  },
  {
   "cell_type": "code",
   "execution_count": null,
   "metadata": {},
   "outputs": [],
   "source": [
    "α = 2\n",
    "M = 12\n",
    "f = lambda t, y: α*y *(1 - y/M)\n",
    "a = 0\n",
    "b = 5\n"
   ]
  }
 ],
 "metadata": {
  "kernelspec": {
   "display_name": "Python 3",
   "language": "python",
   "name": "python3"
  },
  "language_info": {
   "codemirror_mode": {
    "name": "ipython",
    "version": 3
   },
   "file_extension": ".py",
   "mimetype": "text/x-python",
   "name": "python",
   "nbconvert_exporter": "python",
   "pygments_lexer": "ipython3",
   "version": "3.8.5"
  }
 },
 "nbformat": 4,
 "nbformat_minor": 4
}

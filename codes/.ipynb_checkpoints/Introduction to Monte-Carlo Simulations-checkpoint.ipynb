{
 "cells": [
  {
   "cell_type": "code",
   "execution_count": 16,
   "id": "compact-advocacy",
   "metadata": {},
   "outputs": [],
   "source": [
    "import numpy as np\n",
    "from scipy.integrate import dblquad\n",
    "import matplotlib.pyplot as plt\n",
    "from matplotlib import rc\n",
    "from IPython.display import HTML"
   ]
  },
  {
   "cell_type": "code",
   "execution_count": 21,
   "id": "severe-arcade",
   "metadata": {},
   "outputs": [
    {
     "name": "stdout",
     "output_type": "stream",
     "text": [
      "0.9485663553299681\n"
     ]
    },
    {
     "data": {
      "text/plain": [
       "[<matplotlib.lines.Line2D at 0x17dd2f610>]"
      ]
     },
     "execution_count": 21,
     "metadata": {},
     "output_type": "execute_result"
    },
    {
     "data": {
      "image/png": "[encoded data removed]",
      "text/plain": [
       "<Figure size 432x288 with 1 Axes>"
      ]
     },
     "metadata": {
      "needs_background": "light"
     },
     "output_type": "display_data"
    }
   ],
   "source": [
    "N = 20 # number of random sampling \n",
    "f = lambda x,y: x**4 + y**6 -1\n",
    "g = lambda x: (1 - x**4)**(1/6) \n",
    "t = np.linspace(0,1,num=50)\n",
    "xx = np.zeros((N+1,1))\n",
    "yy = np.zeros((N+1,1))\n",
    "pick = 0 #number of points inside our domain\n",
    "fig , ax1 = plt.subplots()\n",
    "for i in range(1,N+1):\n",
    "    x = np.random.uniform(size=1)\n",
    "    y = np.random.uniform(size=1)\n",
    "    xx[i] = x\n",
    "    yy[i] = y\n",
    "    ax1.scatter(x, y)\n",
    "    if f(x,y)<=0:\n",
    "        pick = pick + 1\n",
    "    \n",
    "area = pick/N\n",
    "\n",
    "exact, error = dblquad(lambda x,y:1, 0, 1, 0, g)\n",
    "print(exact)\n",
    "#fig , ax1 = plt.subplots()\n",
    "ax1.set_xlim((0, 1))\n",
    "ax1.set_ylim((0, 1))\n",
    "plt.yticks([])\n",
    "ax1.plot(t, g(t))"
   ]
  },
  {
   "cell_type": "code",
   "execution_count": 41,
   "id": "coordinated-apparatus",
   "metadata": {},
   "outputs": [
    {
     "data": {
      "application/vnd.jupyter.widget-view+json": {
       "model_id": "8ba0a63727b24a4788c39f77fd7ab3f4",
       "version_major": 2,
       "version_minor": 0
      },
      "text/plain": [
       "interactive(children=(IntSlider(value=10, description='N', max=7000, min=10, step=100), Output()), _dom_classe…"
      ]
     },
     "metadata": {},
     "output_type": "display_data"
    }
   ],
   "source": [
    "f = lambda x,y: x**4 + y**6 -1\n",
    "g = lambda x: (1 - x**4)**(1/6) \n",
    "t = np.linspace(0,1,num=50)\n",
    "\n",
    "from ipywidgets import interact \n",
    "@interact\n",
    "def interact_bernouilli(N:(10, 7000, 100)=10):\n",
    "    exact, error = dblquad(lambda x,y:1, 0, 1, 0, g)\n",
    "    xx = np.zeros((N+1,1))\n",
    "    yy = np.zeros((N+1,1))\n",
    "    pick = 0 #number of points inside our domain\n",
    "    fig , ax1 = plt.subplots()\n",
    "    xx = np.random.uniform(size=N)\n",
    "    yy = np.random.uniform(size=N)\n",
    "    mask = f(xx, yy) <= 0\n",
    "    plt.scatter(xx[mask], yy[mask], c='C0')\n",
    "    plt.scatter(xx[~mask], yy[~mask], c='C1')\n",
    "    area = len(xx[mask])/N\n",
    "    ax1.set_xlim((0, 1))\n",
    "    ax1.set_ylim((0, 1))\n",
    "    plt.yticks([])\n",
    "    ax1.plot(t, g(t))\n",
    "    plt.title(f'Computed area = {area}, Exact value = {exact}')"
   ]
  },
  {
   "cell_type": "code",
   "execution_count": null,
   "id": "geological-inquiry",
   "metadata": {},
   "outputs": [],
   "source": []
  }
 ],
 "metadata": {
  "kernelspec": {
   "display_name": "Python 3",
   "language": "python",
   "name": "python3"
  },
  "language_info": {
   "codemirror_mode": {
    "name": "ipython",
    "version": 3
   },
   "file_extension": ".py",
   "mimetype": "text/x-python",
   "name": "python",
   "nbconvert_exporter": "python",
   "pygments_lexer": "ipython3",
   "version": "3.8.5"
  }
 },
 "nbformat": 4,
 "nbformat_minor": 5
}

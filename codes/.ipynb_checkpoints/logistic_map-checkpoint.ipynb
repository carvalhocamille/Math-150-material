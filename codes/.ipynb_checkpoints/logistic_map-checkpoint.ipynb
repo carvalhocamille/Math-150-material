{
 "cells": [
  {
   "cell_type": "markdown",
   "metadata": {},
   "source": [
    "# Exercise\n",
    "We consider here the discrete scheme\n",
    "$$y_n = \\alpha y_n (1 - y_n^2) = \\alpha y_n (1 - y_n)(1 + y_n)\n",
    "$$"
   ]
  },
  {
   "cell_type": "code",
   "execution_count": 3,
   "metadata": {},
   "outputs": [],
   "source": [
    "%matplotlib inline\n",
    "from matplotlib import pyplot as plt\n",
    "import numpy as np\n",
    "import sympy as sp"
   ]
  },
  {
   "cell_type": "code",
   "execution_count": 7,
   "metadata": {},
   "outputs": [],
   "source": [
    "f = lambda x: x\n",
    "g = lambda x: α*x *(1 - x**2)"
   ]
  },
  {
   "cell_type": "code",
   "execution_count": 21,
   "metadata": {},
   "outputs": [
    {
     "data": {
      "application/vnd.jupyter.widget-view+json": {
       "model_id": "b9d5328df7c84eeaa03d5f8a4c1c08cf",
       "version_major": 2,
       "version_minor": 0
      },
      "text/plain": [
       "interactive(children=(IntSlider(value=1, description='α', max=10), Output()), _dom_classes=('widget-interact',…"
      ]
     },
     "metadata": {},
     "output_type": "display_data"
    }
   ],
   "source": [
    "from ipywidgets import interact \n",
    "@interact\n",
    "def interact_sir(α:(0, 10, 1)=1 x0:(0, 1, 0.1)=0.2):\n",
    "    α0 = α\n",
    "    f = lambda x: x\n",
    "    g = lambda x: α0*x *(1 - x**2)\n",
    "    t = np.linspace(-10, 10, 300)\n",
    "    fig, ax = plt.subplots(1, 1,figsize=(10, 10))\n",
    "    ax.plot(t, f(t), 'b', label = 'y=x')\n",
    "    ax.plot(t, g(t), 'b', label = 'y = g(x)')\n",
    "    ax.hlines(0, -10, 10, colors='k') \n",
    "    ax.vlines(0, -10, 10, colors='k') \n",
    "    x00 = x0\n",
    "    for i in range(10):\n",
    "        tmp = g(x00)\n",
    "        ax.vlines(x00, x00, tmp, colors='r') \n",
    "        ax.hlines(tmp, x00, tmp, colors='r')\n",
    "        x00 = tmp\n",
    "        \n",
    "    ax.set_xlabel('x')\n",
    "    ax.set_ylabel('y')\n",
    "    ax.set_ylim(-2,2)\n",
    "    ax.set_xlim(-2,2)\n",
    "    ax.grid(True)\n",
    "    legend = ax.legend()"
   ]
  },
  {
   "cell_type": "code",
   "execution_count": null,
   "metadata": {},
   "outputs": [],
   "source": []
  }
 ],
 "metadata": {
  "kernelspec": {
   "display_name": "Python 3",
   "language": "python",
   "name": "python3"
  },
  "language_info": {
   "codemirror_mode": {
    "name": "ipython",
    "version": 3
   },
   "file_extension": ".py",
   "mimetype": "text/x-python",
   "name": "python",
   "nbconvert_exporter": "python",
   "pygments_lexer": "ipython3",
   "version": "3.8.5"
  }
 },
 "nbformat": 4,
 "nbformat_minor": 4
}

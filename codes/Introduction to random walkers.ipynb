{
 "cells": [
  {
   "cell_type": "markdown",
   "metadata": {},
   "source": [
    "# Basic implementation for random walkers in 1D"
   ]
  },
  {
   "cell_type": "code",
   "execution_count": 4,
   "metadata": {},
   "outputs": [],
   "source": [
    "import numpy as np\n",
    "import matplotlib.pyplot as plt\n",
    "import matplotlib.animation as animation\n",
    "from matplotlib import rc\n",
    "from IPython.display import HTML\n",
    "from celluloid import Camera"
   ]
  },
  {
   "cell_type": "code",
   "execution_count": 11,
   "metadata": {},
   "outputs": [
    {
     "data": {
      "text/plain": [
       "<matplotlib.collections.PathCollection at 0x114ed2070>"
      ]
     },
     "execution_count": 11,
     "metadata": {},
     "output_type": "execute_result"
    },
    {
     "data": {
      "image/png": "[encoded data removed]",
      "text/plain": [
       "<Figure size 432x288 with 1 Axes>"
      ]
     },
     "metadata": {
      "needs_background": "light"
     },
     "output_type": "display_data"
    }
   ],
   "source": [
    "a = 2 # size of the domain\n",
    "x0 = 0 # x center\n",
    "t0 = 0 # initial time\n",
    "tf = 1 # final time\n",
    "N = 20 # number of data points after t0\n",
    "dx = 0.1 #step size\n",
    "num_walkers = 100 # number of walkers\n",
    "dt = (tf - t0) / N # compute timestep\n",
    "t = np.linspace(0,1,num=N+1) # create t array\n",
    "length = 2*a # total length of system (assuming domain is [-a,a]\n",
    "x = np.zeros((N+1,num_walkers)) # 2D array of walkers, where the jth column is one walker and the ith row is all the positions\n",
    "\n",
    "# Random initial location uniform has parameters.\n",
    "x[0,:] = np.random.uniform(-0.2, 0.2, size=num_walkers)\n",
    "position = np.linspace(-1,1,num = num_walkers)\n",
    "for i in range(1,N+1):\n",
    "    s = np.random.uniform(size=num_walkers)\n",
    "    move_right = (s >=0.4)\n",
    "    move_left = (s <0.4)\n",
    "    x[i,move_right] = x[i-1,move_right] + dx\n",
    "    x[i,move_left] = x[i-1, move_left] - dx\n",
    "\n",
    "fig , ax1 = plt.subplots()\n",
    "ax1.set_xlim((-a, a))\n",
    "ax1.set_ylim((-a, a))\n",
    "plt.yticks([])\n",
    "ax1.scatter(x[0,:], position, c=range(num_walkers))"
   ]
  },
  {
   "cell_type": "code",
   "execution_count": 10,
   "metadata": {},
   "outputs": [
    {
     "data": {
      "application/vnd.jupyter.widget-view+json": {
       "model_id": "de7e539d5d6948af837ac95989094290",
       "version_major": 2,
       "version_minor": 0
      },
      "text/plain": [
       "interactive(children=(IntSlider(value=0, description='i', max=20), Output()), _dom_classes=('widget-interact',…"
      ]
     },
     "metadata": {},
     "output_type": "display_data"
    }
   ],
   "source": [
    "from ipywidgets import interact \n",
    "@interact\n",
    "def interact_walker(i:(0, N, 1)=0):\n",
    "    fig , ax1 = plt.subplots(1, 1,figsize=(10, 10))\n",
    "    ax1.set_xlim((-a, a))\n",
    "    ax1.set_ylim((-a, a))\n",
    "    plt.yticks([])\n",
    "    ax1.scatter(x[i,:], position, c=range(num_walkers))\n",
    "    plt.grid(True)\n",
    "    "
   ]
  },
  {
   "cell_type": "code",
   "execution_count": null,
   "metadata": {},
   "outputs": [],
   "source": []
  },
  {
   "cell_type": "code",
   "execution_count": null,
   "metadata": {},
   "outputs": [],
   "source": []
  }
 ],
 "metadata": {
  "kernelspec": {
   "display_name": "Python 3",
   "language": "python",
   "name": "python3"
  },
  "language_info": {
   "codemirror_mode": {
    "name": "ipython",
    "version": 3
   },
   "file_extension": ".py",
   "mimetype": "text/x-python",
   "name": "python",
   "nbconvert_exporter": "python",
   "pygments_lexer": "ipython3",
   "version": "3.8.5"
  }
 },
 "nbformat": 4,
 "nbformat_minor": 4
}
